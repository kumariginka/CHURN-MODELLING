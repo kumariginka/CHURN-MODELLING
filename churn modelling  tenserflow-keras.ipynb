{
 "cells": [
  {
   "cell_type": "code",
   "execution_count": 1,
   "id": "3d2a39ee",
   "metadata": {},
   "outputs": [],
   "source": [
    "import pandas as pd"
   ]
  },
  {
   "cell_type": "code",
   "execution_count": 2,
   "id": "086a745e",
   "metadata": {},
   "outputs": [],
   "source": [
    "import  numpy as np\n",
    "import matplotlib.pyplot as plt\n",
    "%matplotlib inline"
   ]
  },
  {
   "cell_type": "code",
   "execution_count": 3,
   "id": "8be89e3e",
   "metadata": {},
   "outputs": [],
   "source": [
    "df=pd.read_csv(\"C:/Users/ELCOT/Desktop/abc/Churn_Modelling.csv\")"
   ]
  },
  {
   "cell_type": "code",
   "execution_count": 4,
   "id": "fa9ff492",
   "metadata": {},
   "outputs": [
    {
     "data": {
      "text/html": [
       "<div>\n",
       "<style scoped>\n",
       "    .dataframe tbody tr th:only-of-type {\n",
       "        vertical-align: middle;\n",
       "    }\n",
       "\n",
       "    .dataframe tbody tr th {\n",
       "        vertical-align: top;\n",
       "    }\n",
       "\n",
       "    .dataframe thead th {\n",
       "        text-align: right;\n",
       "    }\n",
       "</style>\n",
       "<table border=\"1\" class=\"dataframe\">\n",
       "  <thead>\n",
       "    <tr style=\"text-align: right;\">\n",
       "      <th></th>\n",
       "      <th>RowNumber</th>\n",
       "      <th>CustomerId</th>\n",
       "      <th>Surname</th>\n",
       "      <th>CreditScore</th>\n",
       "      <th>Geography</th>\n",
       "      <th>Gender</th>\n",
       "      <th>Age</th>\n",
       "      <th>Tenure</th>\n",
       "      <th>Balance</th>\n",
       "      <th>NumOfProducts</th>\n",
       "      <th>HasCrCard</th>\n",
       "      <th>IsActiveMember</th>\n",
       "      <th>EstimatedSalary</th>\n",
       "      <th>Exited</th>\n",
       "    </tr>\n",
       "  </thead>\n",
       "  <tbody>\n",
       "    <tr>\n",
       "      <th>0</th>\n",
       "      <td>1</td>\n",
       "      <td>15634602</td>\n",
       "      <td>Hargrave</td>\n",
       "      <td>619</td>\n",
       "      <td>France</td>\n",
       "      <td>Female</td>\n",
       "      <td>42</td>\n",
       "      <td>2</td>\n",
       "      <td>0.00</td>\n",
       "      <td>1</td>\n",
       "      <td>1</td>\n",
       "      <td>1</td>\n",
       "      <td>101348.88</td>\n",
       "      <td>1</td>\n",
       "    </tr>\n",
       "    <tr>\n",
       "      <th>1</th>\n",
       "      <td>2</td>\n",
       "      <td>15647311</td>\n",
       "      <td>Hill</td>\n",
       "      <td>608</td>\n",
       "      <td>Spain</td>\n",
       "      <td>Female</td>\n",
       "      <td>41</td>\n",
       "      <td>1</td>\n",
       "      <td>83807.86</td>\n",
       "      <td>1</td>\n",
       "      <td>0</td>\n",
       "      <td>1</td>\n",
       "      <td>112542.58</td>\n",
       "      <td>0</td>\n",
       "    </tr>\n",
       "    <tr>\n",
       "      <th>2</th>\n",
       "      <td>3</td>\n",
       "      <td>15619304</td>\n",
       "      <td>Onio</td>\n",
       "      <td>502</td>\n",
       "      <td>France</td>\n",
       "      <td>Female</td>\n",
       "      <td>42</td>\n",
       "      <td>8</td>\n",
       "      <td>159660.80</td>\n",
       "      <td>3</td>\n",
       "      <td>1</td>\n",
       "      <td>0</td>\n",
       "      <td>113931.57</td>\n",
       "      <td>1</td>\n",
       "    </tr>\n",
       "    <tr>\n",
       "      <th>3</th>\n",
       "      <td>4</td>\n",
       "      <td>15701354</td>\n",
       "      <td>Boni</td>\n",
       "      <td>699</td>\n",
       "      <td>France</td>\n",
       "      <td>Female</td>\n",
       "      <td>39</td>\n",
       "      <td>1</td>\n",
       "      <td>0.00</td>\n",
       "      <td>2</td>\n",
       "      <td>0</td>\n",
       "      <td>0</td>\n",
       "      <td>93826.63</td>\n",
       "      <td>0</td>\n",
       "    </tr>\n",
       "    <tr>\n",
       "      <th>4</th>\n",
       "      <td>5</td>\n",
       "      <td>15737888</td>\n",
       "      <td>Mitchell</td>\n",
       "      <td>850</td>\n",
       "      <td>Spain</td>\n",
       "      <td>Female</td>\n",
       "      <td>43</td>\n",
       "      <td>2</td>\n",
       "      <td>125510.82</td>\n",
       "      <td>1</td>\n",
       "      <td>1</td>\n",
       "      <td>1</td>\n",
       "      <td>79084.10</td>\n",
       "      <td>0</td>\n",
       "    </tr>\n",
       "  </tbody>\n",
       "</table>\n",
       "</div>"
      ],
      "text/plain": [
       "   RowNumber  CustomerId   Surname  CreditScore Geography  Gender  Age  \\\n",
       "0          1    15634602  Hargrave          619    France  Female   42   \n",
       "1          2    15647311      Hill          608     Spain  Female   41   \n",
       "2          3    15619304      Onio          502    France  Female   42   \n",
       "3          4    15701354      Boni          699    France  Female   39   \n",
       "4          5    15737888  Mitchell          850     Spain  Female   43   \n",
       "\n",
       "   Tenure    Balance  NumOfProducts  HasCrCard  IsActiveMember  \\\n",
       "0       2       0.00              1          1               1   \n",
       "1       1   83807.86              1          0               1   \n",
       "2       8  159660.80              3          1               0   \n",
       "3       1       0.00              2          0               0   \n",
       "4       2  125510.82              1          1               1   \n",
       "\n",
       "   EstimatedSalary  Exited  \n",
       "0        101348.88       1  \n",
       "1        112542.58       0  \n",
       "2        113931.57       1  \n",
       "3         93826.63       0  \n",
       "4         79084.10       0  "
      ]
     },
     "execution_count": 4,
     "metadata": {},
     "output_type": "execute_result"
    }
   ],
   "source": [
    "df.head()"
   ]
  },
  {
   "cell_type": "code",
   "execution_count": 5,
   "id": "eaf07b2d",
   "metadata": {},
   "outputs": [
    {
     "data": {
      "text/plain": [
       "RowNumber            int64\n",
       "CustomerId           int64\n",
       "Surname             object\n",
       "CreditScore          int64\n",
       "Geography           object\n",
       "Gender              object\n",
       "Age                  int64\n",
       "Tenure               int64\n",
       "Balance            float64\n",
       "NumOfProducts        int64\n",
       "HasCrCard            int64\n",
       "IsActiveMember       int64\n",
       "EstimatedSalary    float64\n",
       "Exited               int64\n",
       "dtype: object"
      ]
     },
     "execution_count": 5,
     "metadata": {},
     "output_type": "execute_result"
    }
   ],
   "source": [
    "df.dtypes"
   ]
  },
  {
   "cell_type": "code",
   "execution_count": 7,
   "id": "058a5bf7",
   "metadata": {},
   "outputs": [],
   "source": [
    "x=df.iloc[:,3:13]  #### first 3 columns are not useful for our model"
   ]
  },
  {
   "cell_type": "code",
   "execution_count": 8,
   "id": "ab0b6cba",
   "metadata": {},
   "outputs": [],
   "source": [
    "y=df.iloc[:,13]"
   ]
  },
  {
   "cell_type": "code",
   "execution_count": 11,
   "id": "875f7352",
   "metadata": {},
   "outputs": [
    {
     "data": {
      "text/plain": [
       "RowNumber          0\n",
       "CustomerId         0\n",
       "Surname            0\n",
       "CreditScore        0\n",
       "Geography          0\n",
       "Gender             0\n",
       "Age                0\n",
       "Tenure             0\n",
       "Balance            0\n",
       "NumOfProducts      0\n",
       "HasCrCard          0\n",
       "IsActiveMember     0\n",
       "EstimatedSalary    0\n",
       "Exited             0\n",
       "dtype: int64"
      ]
     },
     "execution_count": 11,
     "metadata": {},
     "output_type": "execute_result"
    }
   ],
   "source": [
    "df.isna().sum()                 ####no missing data here"
   ]
  },
  {
   "cell_type": "code",
   "execution_count": 9,
   "id": "24263c80",
   "metadata": {},
   "outputs": [],
   "source": [
    "geography=pd.get_dummies(x[\"Geography\"],drop_first=True)"
   ]
  },
  {
   "cell_type": "code",
   "execution_count": 8,
   "id": "2befec29",
   "metadata": {},
   "outputs": [],
   "source": [
    "gender=pd.get_dummies(x[\"Gender\"],drop_first=True)"
   ]
  },
  {
   "cell_type": "code",
   "execution_count": 9,
   "id": "328c4a4c",
   "metadata": {},
   "outputs": [],
   "source": [
    "X=pd.concat([x,geography,gender],axis=1)"
   ]
  },
  {
   "cell_type": "code",
   "execution_count": 10,
   "id": "5a549779",
   "metadata": {},
   "outputs": [],
   "source": [
    "X.drop(columns=[\"Geography\",\"Gender\"],inplace=True)"
   ]
  },
  {
   "cell_type": "code",
   "execution_count": 11,
   "id": "65fb72da",
   "metadata": {},
   "outputs": [
    {
     "data": {
      "text/html": [
       "<div>\n",
       "<style scoped>\n",
       "    .dataframe tbody tr th:only-of-type {\n",
       "        vertical-align: middle;\n",
       "    }\n",
       "\n",
       "    .dataframe tbody tr th {\n",
       "        vertical-align: top;\n",
       "    }\n",
       "\n",
       "    .dataframe thead th {\n",
       "        text-align: right;\n",
       "    }\n",
       "</style>\n",
       "<table border=\"1\" class=\"dataframe\">\n",
       "  <thead>\n",
       "    <tr style=\"text-align: right;\">\n",
       "      <th></th>\n",
       "      <th>CreditScore</th>\n",
       "      <th>Age</th>\n",
       "      <th>Tenure</th>\n",
       "      <th>Balance</th>\n",
       "      <th>NumOfProducts</th>\n",
       "      <th>HasCrCard</th>\n",
       "      <th>IsActiveMember</th>\n",
       "      <th>EstimatedSalary</th>\n",
       "      <th>Germany</th>\n",
       "      <th>Spain</th>\n",
       "      <th>Male</th>\n",
       "    </tr>\n",
       "  </thead>\n",
       "  <tbody>\n",
       "    <tr>\n",
       "      <th>0</th>\n",
       "      <td>619</td>\n",
       "      <td>42</td>\n",
       "      <td>2</td>\n",
       "      <td>0.00</td>\n",
       "      <td>1</td>\n",
       "      <td>1</td>\n",
       "      <td>1</td>\n",
       "      <td>101348.88</td>\n",
       "      <td>0</td>\n",
       "      <td>0</td>\n",
       "      <td>0</td>\n",
       "    </tr>\n",
       "    <tr>\n",
       "      <th>1</th>\n",
       "      <td>608</td>\n",
       "      <td>41</td>\n",
       "      <td>1</td>\n",
       "      <td>83807.86</td>\n",
       "      <td>1</td>\n",
       "      <td>0</td>\n",
       "      <td>1</td>\n",
       "      <td>112542.58</td>\n",
       "      <td>0</td>\n",
       "      <td>1</td>\n",
       "      <td>0</td>\n",
       "    </tr>\n",
       "    <tr>\n",
       "      <th>2</th>\n",
       "      <td>502</td>\n",
       "      <td>42</td>\n",
       "      <td>8</td>\n",
       "      <td>159660.80</td>\n",
       "      <td>3</td>\n",
       "      <td>1</td>\n",
       "      <td>0</td>\n",
       "      <td>113931.57</td>\n",
       "      <td>0</td>\n",
       "      <td>0</td>\n",
       "      <td>0</td>\n",
       "    </tr>\n",
       "    <tr>\n",
       "      <th>3</th>\n",
       "      <td>699</td>\n",
       "      <td>39</td>\n",
       "      <td>1</td>\n",
       "      <td>0.00</td>\n",
       "      <td>2</td>\n",
       "      <td>0</td>\n",
       "      <td>0</td>\n",
       "      <td>93826.63</td>\n",
       "      <td>0</td>\n",
       "      <td>0</td>\n",
       "      <td>0</td>\n",
       "    </tr>\n",
       "    <tr>\n",
       "      <th>4</th>\n",
       "      <td>850</td>\n",
       "      <td>43</td>\n",
       "      <td>2</td>\n",
       "      <td>125510.82</td>\n",
       "      <td>1</td>\n",
       "      <td>1</td>\n",
       "      <td>1</td>\n",
       "      <td>79084.10</td>\n",
       "      <td>0</td>\n",
       "      <td>1</td>\n",
       "      <td>0</td>\n",
       "    </tr>\n",
       "  </tbody>\n",
       "</table>\n",
       "</div>"
      ],
      "text/plain": [
       "   CreditScore  Age  Tenure    Balance  NumOfProducts  HasCrCard  \\\n",
       "0          619   42       2       0.00              1          1   \n",
       "1          608   41       1   83807.86              1          0   \n",
       "2          502   42       8  159660.80              3          1   \n",
       "3          699   39       1       0.00              2          0   \n",
       "4          850   43       2  125510.82              1          1   \n",
       "\n",
       "   IsActiveMember  EstimatedSalary  Germany  Spain  Male  \n",
       "0               1        101348.88        0      0     0  \n",
       "1               1        112542.58        0      1     0  \n",
       "2               0        113931.57        0      0     0  \n",
       "3               0         93826.63        0      0     0  \n",
       "4               1         79084.10        0      1     0  "
      ]
     },
     "execution_count": 11,
     "metadata": {},
     "output_type": "execute_result"
    }
   ],
   "source": [
    "X.head()"
   ]
  },
  {
   "cell_type": "code",
   "execution_count": 12,
   "id": "7adedc47",
   "metadata": {},
   "outputs": [],
   "source": [
    "from sklearn.model_selection import train_test_split"
   ]
  },
  {
   "cell_type": "code",
   "execution_count": 13,
   "id": "43404f08",
   "metadata": {},
   "outputs": [],
   "source": [
    "x_train,x_test,y_train,y_test=train_test_split(X,y,test_size=0.33)"
   ]
  },
  {
   "cell_type": "code",
   "execution_count": 14,
   "id": "701aa139",
   "metadata": {},
   "outputs": [
    {
     "data": {
      "text/plain": [
       "(6700, 11)"
      ]
     },
     "execution_count": 14,
     "metadata": {},
     "output_type": "execute_result"
    }
   ],
   "source": [
    "x_train.shape"
   ]
  },
  {
   "cell_type": "code",
   "execution_count": 15,
   "id": "fdddf364",
   "metadata": {},
   "outputs": [],
   "source": [
    "from sklearn.preprocessing import StandardScaler"
   ]
  },
  {
   "cell_type": "code",
   "execution_count": 16,
   "id": "560d4eee",
   "metadata": {},
   "outputs": [],
   "source": [
    "sc=StandardScaler()"
   ]
  },
  {
   "cell_type": "code",
   "execution_count": 17,
   "id": "7e67add4",
   "metadata": {},
   "outputs": [],
   "source": [
    "x_train=sc.fit_transform(x_train)"
   ]
  },
  {
   "cell_type": "code",
   "execution_count": 18,
   "id": "8cc78acc",
   "metadata": {},
   "outputs": [],
   "source": [
    "x_test=sc.transform(x_test)"
   ]
  },
  {
   "cell_type": "code",
   "execution_count": 19,
   "id": "fbd56540",
   "metadata": {},
   "outputs": [],
   "source": [
    "import keras"
   ]
  },
  {
   "cell_type": "code",
   "execution_count": 20,
   "id": "195960af",
   "metadata": {},
   "outputs": [],
   "source": [
    "from keras.models import Sequential"
   ]
  },
  {
   "cell_type": "code",
   "execution_count": 21,
   "id": "ec6c9d20",
   "metadata": {},
   "outputs": [],
   "source": [
    "from keras.layers import Dense"
   ]
  },
  {
   "cell_type": "code",
   "execution_count": 22,
   "id": "cfafb67a",
   "metadata": {},
   "outputs": [],
   "source": [
    "from keras.layers import Dropout"
   ]
  },
  {
   "cell_type": "code",
   "execution_count": 23,
   "id": "033a7d71",
   "metadata": {},
   "outputs": [],
   "source": [
    "classifier=Sequential()"
   ]
  },
  {
   "cell_type": "code",
   "execution_count": 24,
   "id": "11014179",
   "metadata": {},
   "outputs": [],
   "source": [
    "classifier.add(Dense(units=6,kernel_initializer=\"he_uniform\",activation=\"relu\",input_dim=11)) ####creating hidden layer1"
   ]
  },
  {
   "cell_type": "code",
   "execution_count": 25,
   "id": "45fb6ea9",
   "metadata": {},
   "outputs": [],
   "source": [
    "classifier.add(Dense(units=6,kernel_initializer=\"he_uniform\",activation=\"relu\")) ####creating hidden layer2"
   ]
  },
  {
   "cell_type": "code",
   "execution_count": 26,
   "id": "e565f070",
   "metadata": {},
   "outputs": [],
   "source": [
    "classifier.add(Dense(units=1,kernel_initializer=\"glorot_uniform\",activation=\"sigmoid\"))"
   ]
  },
  {
   "cell_type": "code",
   "execution_count": 27,
   "id": "cfd534de",
   "metadata": {},
   "outputs": [
    {
     "name": "stdout",
     "output_type": "stream",
     "text": [
      "Model: \"sequential\"\n",
      "_________________________________________________________________\n",
      "Layer (type)                 Output Shape              Param #   \n",
      "=================================================================\n",
      "dense (Dense)                (None, 6)                 72        \n",
      "_________________________________________________________________\n",
      "dense_1 (Dense)              (None, 6)                 42        \n",
      "_________________________________________________________________\n",
      "dense_2 (Dense)              (None, 1)                 7         \n",
      "=================================================================\n",
      "Total params: 121\n",
      "Trainable params: 121\n",
      "Non-trainable params: 0\n",
      "_________________________________________________________________\n"
     ]
    }
   ],
   "source": [
    "classifier.summary()"
   ]
  },
  {
   "cell_type": "code",
   "execution_count": 28,
   "id": "59ef6d77",
   "metadata": {},
   "outputs": [],
   "source": [
    "classifier.compile(optimizer=\"adam\",loss=\"binary_crossentropy\",metrics=[\"accuracy\"])"
   ]
  },
  {
   "cell_type": "code",
   "execution_count": 29,
   "id": "bfe0e45b",
   "metadata": {},
   "outputs": [
    {
     "name": "stdout",
     "output_type": "stream",
     "text": [
      "Epoch 1/100\n",
      "449/449 [==============================] - 3s 6ms/step - loss: 0.5723 - accuracy: 0.7424 - val_loss: 0.5184 - val_accuracy: 0.7970\n",
      "Epoch 2/100\n",
      "449/449 [==============================] - 2s 5ms/step - loss: 0.4689 - accuracy: 0.8104 - val_loss: 0.4730 - val_accuracy: 0.8042\n",
      "Epoch 3/100\n",
      "449/449 [==============================] - 2s 4ms/step - loss: 0.4390 - accuracy: 0.8155 - val_loss: 0.4550 - val_accuracy: 0.8106\n",
      "Epoch 4/100\n",
      "449/449 [==============================] - 2s 4ms/step - loss: 0.4260 - accuracy: 0.8164 - val_loss: 0.4451 - val_accuracy: 0.8110\n",
      "Epoch 5/100\n",
      "449/449 [==============================] - 2s 4ms/step - loss: 0.4183 - accuracy: 0.8202 - val_loss: 0.4386 - val_accuracy: 0.8137\n",
      "Epoch 6/100\n",
      "449/449 [==============================] - 2s 4ms/step - loss: 0.4137 - accuracy: 0.8220 - val_loss: 0.4332 - val_accuracy: 0.8156\n",
      "Epoch 7/100\n",
      "449/449 [==============================] - 2s 4ms/step - loss: 0.4088 - accuracy: 0.8251 - val_loss: 0.4285 - val_accuracy: 0.8219\n",
      "Epoch 8/100\n",
      "449/449 [==============================] - 2s 4ms/step - loss: 0.4043 - accuracy: 0.8293 - val_loss: 0.4230 - val_accuracy: 0.8232\n",
      "Epoch 9/100\n",
      "449/449 [==============================] - 2s 5ms/step - loss: 0.3993 - accuracy: 0.8311 - val_loss: 0.4161 - val_accuracy: 0.8291\n",
      "Epoch 10/100\n",
      "449/449 [==============================] - 2s 5ms/step - loss: 0.3930 - accuracy: 0.8338 - val_loss: 0.4076 - val_accuracy: 0.8332\n",
      "Epoch 11/100\n",
      "449/449 [==============================] - 2s 4ms/step - loss: 0.3839 - accuracy: 0.8396 - val_loss: 0.4002 - val_accuracy: 0.8386\n",
      "Epoch 12/100\n",
      "449/449 [==============================] - 2s 4ms/step - loss: 0.3751 - accuracy: 0.8480 - val_loss: 0.3868 - val_accuracy: 0.8440\n",
      "Epoch 13/100\n",
      "449/449 [==============================] - 2s 4ms/step - loss: 0.3653 - accuracy: 0.8498 - val_loss: 0.3777 - val_accuracy: 0.8486\n",
      "Epoch 14/100\n",
      "449/449 [==============================] - 2s 5ms/step - loss: 0.3562 - accuracy: 0.8576 - val_loss: 0.3701 - val_accuracy: 0.8486\n",
      "Epoch 15/100\n",
      "449/449 [==============================] - 2s 4ms/step - loss: 0.3498 - accuracy: 0.8603 - val_loss: 0.3654 - val_accuracy: 0.8486\n",
      "Epoch 16/100\n",
      "449/449 [==============================] - 2s 4ms/step - loss: 0.3450 - accuracy: 0.8616 - val_loss: 0.3645 - val_accuracy: 0.8508\n",
      "Epoch 17/100\n",
      "449/449 [==============================] - 2s 4ms/step - loss: 0.3419 - accuracy: 0.8614 - val_loss: 0.3646 - val_accuracy: 0.8504\n",
      "Epoch 18/100\n",
      "449/449 [==============================] - 2s 4ms/step - loss: 0.3407 - accuracy: 0.8610 - val_loss: 0.3607 - val_accuracy: 0.8526\n",
      "Epoch 19/100\n",
      "449/449 [==============================] - 2s 5ms/step - loss: 0.3390 - accuracy: 0.8610 - val_loss: 0.3606 - val_accuracy: 0.8504\n",
      "Epoch 20/100\n",
      "449/449 [==============================] - 2s 5ms/step - loss: 0.3379 - accuracy: 0.8621 - val_loss: 0.3588 - val_accuracy: 0.8499\n",
      "Epoch 21/100\n",
      "449/449 [==============================] - 2s 5ms/step - loss: 0.3368 - accuracy: 0.8625 - val_loss: 0.3583 - val_accuracy: 0.8499\n",
      "Epoch 22/100\n",
      "449/449 [==============================] - 2s 5ms/step - loss: 0.3362 - accuracy: 0.8632 - val_loss: 0.3581 - val_accuracy: 0.8531\n",
      "Epoch 23/100\n",
      "449/449 [==============================] - 2s 5ms/step - loss: 0.3353 - accuracy: 0.8636 - val_loss: 0.3581 - val_accuracy: 0.8540\n",
      "Epoch 24/100\n",
      "449/449 [==============================] - 2s 5ms/step - loss: 0.3347 - accuracy: 0.8623 - val_loss: 0.3572 - val_accuracy: 0.8549\n",
      "Epoch 25/100\n",
      "449/449 [==============================] - 2s 5ms/step - loss: 0.3334 - accuracy: 0.8625 - val_loss: 0.3610 - val_accuracy: 0.8504\n",
      "Epoch 26/100\n",
      "449/449 [==============================] - 2s 5ms/step - loss: 0.3337 - accuracy: 0.8645 - val_loss: 0.3572 - val_accuracy: 0.8531\n",
      "Epoch 27/100\n",
      "449/449 [==============================] - 2s 5ms/step - loss: 0.3326 - accuracy: 0.8639 - val_loss: 0.3573 - val_accuracy: 0.8535\n",
      "Epoch 28/100\n",
      "449/449 [==============================] - 2s 5ms/step - loss: 0.3325 - accuracy: 0.8636 - val_loss: 0.3573 - val_accuracy: 0.8526\n",
      "Epoch 29/100\n",
      "449/449 [==============================] - 2s 5ms/step - loss: 0.3320 - accuracy: 0.8661 - val_loss: 0.3582 - val_accuracy: 0.8522\n",
      "Epoch 30/100\n",
      "449/449 [==============================] - 2s 5ms/step - loss: 0.3318 - accuracy: 0.8648 - val_loss: 0.3570 - val_accuracy: 0.8531\n",
      "Epoch 31/100\n",
      "449/449 [==============================] - 2s 5ms/step - loss: 0.3316 - accuracy: 0.8648 - val_loss: 0.3572 - val_accuracy: 0.8499\n",
      "Epoch 32/100\n",
      "449/449 [==============================] - 2s 5ms/step - loss: 0.3314 - accuracy: 0.8648 - val_loss: 0.3568 - val_accuracy: 0.8499\n",
      "Epoch 33/100\n",
      "449/449 [==============================] - 2s 5ms/step - loss: 0.3311 - accuracy: 0.8650 - val_loss: 0.3560 - val_accuracy: 0.8517\n",
      "Epoch 34/100\n",
      "449/449 [==============================] - 2s 5ms/step - loss: 0.3304 - accuracy: 0.8654 - val_loss: 0.3557 - val_accuracy: 0.8558\n",
      "Epoch 35/100\n",
      "449/449 [==============================] - 2s 5ms/step - loss: 0.3307 - accuracy: 0.8645 - val_loss: 0.3567 - val_accuracy: 0.8504\n",
      "Epoch 36/100\n",
      "449/449 [==============================] - 2s 5ms/step - loss: 0.3304 - accuracy: 0.8643 - val_loss: 0.3563 - val_accuracy: 0.8508\n",
      "Epoch 37/100\n",
      "449/449 [==============================] - 2s 5ms/step - loss: 0.3301 - accuracy: 0.8661 - val_loss: 0.3557 - val_accuracy: 0.8513\n",
      "Epoch 38/100\n",
      "449/449 [==============================] - 2s 5ms/step - loss: 0.3299 - accuracy: 0.8641 - val_loss: 0.3556 - val_accuracy: 0.8517\n",
      "Epoch 39/100\n",
      "449/449 [==============================] - 2s 5ms/step - loss: 0.3295 - accuracy: 0.8672 - val_loss: 0.3594 - val_accuracy: 0.8486\n",
      "Epoch 40/100\n",
      "449/449 [==============================] - 2s 5ms/step - loss: 0.3296 - accuracy: 0.8645 - val_loss: 0.3578 - val_accuracy: 0.8486\n",
      "Epoch 41/100\n",
      "449/449 [==============================] - 2s 5ms/step - loss: 0.3296 - accuracy: 0.8656 - val_loss: 0.3564 - val_accuracy: 0.8522\n",
      "Epoch 42/100\n",
      "449/449 [==============================] - 2s 5ms/step - loss: 0.3294 - accuracy: 0.8654 - val_loss: 0.3552 - val_accuracy: 0.8526\n",
      "Epoch 43/100\n",
      "449/449 [==============================] - 2s 5ms/step - loss: 0.3288 - accuracy: 0.8665 - val_loss: 0.3550 - val_accuracy: 0.8535\n",
      "Epoch 44/100\n",
      "449/449 [==============================] - 3s 6ms/step - loss: 0.3289 - accuracy: 0.8652 - val_loss: 0.3561 - val_accuracy: 0.8531\n",
      "Epoch 45/100\n",
      "449/449 [==============================] - 2s 5ms/step - loss: 0.3293 - accuracy: 0.8663 - val_loss: 0.3551 - val_accuracy: 0.8531\n",
      "Epoch 46/100\n",
      "449/449 [==============================] - 2s 5ms/step - loss: 0.3285 - accuracy: 0.8665 - val_loss: 0.3553 - val_accuracy: 0.8540\n",
      "Epoch 47/100\n",
      "449/449 [==============================] - 2s 5ms/step - loss: 0.3286 - accuracy: 0.8665 - val_loss: 0.3555 - val_accuracy: 0.8522\n",
      "Epoch 48/100\n",
      "449/449 [==============================] - 2s 5ms/step - loss: 0.3281 - accuracy: 0.8656 - val_loss: 0.3595 - val_accuracy: 0.8504\n",
      "Epoch 49/100\n",
      "449/449 [==============================] - 2s 4ms/step - loss: 0.3282 - accuracy: 0.8674 - val_loss: 0.3565 - val_accuracy: 0.8495\n",
      "Epoch 50/100\n",
      "449/449 [==============================] - 2s 5ms/step - loss: 0.3274 - accuracy: 0.8659 - val_loss: 0.3584 - val_accuracy: 0.8472\n",
      "Epoch 51/100\n",
      "449/449 [==============================] - 2s 5ms/step - loss: 0.3276 - accuracy: 0.8670 - val_loss: 0.3565 - val_accuracy: 0.8517\n",
      "Epoch 52/100\n",
      "449/449 [==============================] - 2s 4ms/step - loss: 0.3274 - accuracy: 0.8681 - val_loss: 0.3547 - val_accuracy: 0.8540\n",
      "Epoch 53/100\n",
      "449/449 [==============================] - 2s 5ms/step - loss: 0.3273 - accuracy: 0.8674 - val_loss: 0.3542 - val_accuracy: 0.8531\n",
      "Epoch 54/100\n",
      "449/449 [==============================] - 2s 4ms/step - loss: 0.3269 - accuracy: 0.8672 - val_loss: 0.3553 - val_accuracy: 0.8513\n",
      "Epoch 55/100\n",
      "449/449 [==============================] - 2s 4ms/step - loss: 0.3270 - accuracy: 0.8672 - val_loss: 0.3571 - val_accuracy: 0.8495\n",
      "Epoch 56/100\n",
      "449/449 [==============================] - 2s 5ms/step - loss: 0.3266 - accuracy: 0.8694 - val_loss: 0.3555 - val_accuracy: 0.8522\n",
      "Epoch 57/100\n",
      "449/449 [==============================] - 2s 4ms/step - loss: 0.3263 - accuracy: 0.8668 - val_loss: 0.3543 - val_accuracy: 0.8508\n"
     ]
    },
    {
     "name": "stdout",
     "output_type": "stream",
     "text": [
      "Epoch 58/100\n",
      "449/449 [==============================] - 2s 4ms/step - loss: 0.3264 - accuracy: 0.8661 - val_loss: 0.3565 - val_accuracy: 0.8499\n",
      "Epoch 59/100\n",
      "449/449 [==============================] - 2s 4ms/step - loss: 0.3259 - accuracy: 0.8659 - val_loss: 0.3555 - val_accuracy: 0.8504\n",
      "Epoch 60/100\n",
      "449/449 [==============================] - 2s 4ms/step - loss: 0.3260 - accuracy: 0.8685 - val_loss: 0.3562 - val_accuracy: 0.8504\n",
      "Epoch 61/100\n",
      "449/449 [==============================] - 2s 4ms/step - loss: 0.3263 - accuracy: 0.8674 - val_loss: 0.3539 - val_accuracy: 0.8522\n",
      "Epoch 62/100\n",
      "449/449 [==============================] - 2s 4ms/step - loss: 0.3261 - accuracy: 0.8674 - val_loss: 0.3552 - val_accuracy: 0.8504\n",
      "Epoch 63/100\n",
      "449/449 [==============================] - 2s 4ms/step - loss: 0.3255 - accuracy: 0.8681 - val_loss: 0.3547 - val_accuracy: 0.8517\n",
      "Epoch 64/100\n",
      "449/449 [==============================] - 2s 4ms/step - loss: 0.3257 - accuracy: 0.8674 - val_loss: 0.3571 - val_accuracy: 0.8517\n",
      "Epoch 65/100\n",
      "449/449 [==============================] - 2s 4ms/step - loss: 0.3257 - accuracy: 0.8694 - val_loss: 0.3540 - val_accuracy: 0.8499\n",
      "Epoch 66/100\n",
      "449/449 [==============================] - 2s 4ms/step - loss: 0.3251 - accuracy: 0.8679 - val_loss: 0.3562 - val_accuracy: 0.8486\n",
      "Epoch 67/100\n",
      "449/449 [==============================] - 2s 4ms/step - loss: 0.3249 - accuracy: 0.8672 - val_loss: 0.3559 - val_accuracy: 0.8499\n",
      "Epoch 68/100\n",
      "449/449 [==============================] - 2s 4ms/step - loss: 0.3252 - accuracy: 0.8676 - val_loss: 0.3552 - val_accuracy: 0.8499\n",
      "Epoch 69/100\n",
      "449/449 [==============================] - 2s 4ms/step - loss: 0.3250 - accuracy: 0.8670 - val_loss: 0.3537 - val_accuracy: 0.8513\n",
      "Epoch 70/100\n",
      "449/449 [==============================] - 2s 4ms/step - loss: 0.3250 - accuracy: 0.8692 - val_loss: 0.3561 - val_accuracy: 0.8517\n",
      "Epoch 71/100\n",
      "449/449 [==============================] - 2s 5ms/step - loss: 0.3241 - accuracy: 0.8681 - val_loss: 0.3545 - val_accuracy: 0.8508\n",
      "Epoch 72/100\n",
      "449/449 [==============================] - 2s 4ms/step - loss: 0.3245 - accuracy: 0.8681 - val_loss: 0.3554 - val_accuracy: 0.8504\n",
      "Epoch 73/100\n",
      "449/449 [==============================] - 2s 4ms/step - loss: 0.3239 - accuracy: 0.8688 - val_loss: 0.3558 - val_accuracy: 0.8522\n",
      "Epoch 74/100\n",
      "449/449 [==============================] - 2s 4ms/step - loss: 0.3248 - accuracy: 0.8683 - val_loss: 0.3553 - val_accuracy: 0.8508\n",
      "Epoch 75/100\n",
      "449/449 [==============================] - 2s 4ms/step - loss: 0.3240 - accuracy: 0.8679 - val_loss: 0.3566 - val_accuracy: 0.8504\n",
      "Epoch 76/100\n",
      "449/449 [==============================] - 2s 4ms/step - loss: 0.3242 - accuracy: 0.8701 - val_loss: 0.3524 - val_accuracy: 0.8517\n",
      "Epoch 77/100\n",
      "449/449 [==============================] - 2s 4ms/step - loss: 0.3240 - accuracy: 0.8697 - val_loss: 0.3552 - val_accuracy: 0.8508\n",
      "Epoch 78/100\n",
      "449/449 [==============================] - 2s 5ms/step - loss: 0.3229 - accuracy: 0.8681 - val_loss: 0.3536 - val_accuracy: 0.8508\n",
      "Epoch 79/100\n",
      "449/449 [==============================] - 2s 5ms/step - loss: 0.3234 - accuracy: 0.8690 - val_loss: 0.3533 - val_accuracy: 0.8526\n",
      "Epoch 80/100\n",
      "449/449 [==============================] - 2s 5ms/step - loss: 0.3237 - accuracy: 0.8697 - val_loss: 0.3531 - val_accuracy: 0.8517\n",
      "Epoch 81/100\n",
      "449/449 [==============================] - 2s 5ms/step - loss: 0.3230 - accuracy: 0.8694 - val_loss: 0.3539 - val_accuracy: 0.8504\n",
      "Epoch 82/100\n",
      "449/449 [==============================] - 2s 5ms/step - loss: 0.3232 - accuracy: 0.8688 - val_loss: 0.3540 - val_accuracy: 0.8513\n",
      "Epoch 83/100\n",
      "449/449 [==============================] - 2s 5ms/step - loss: 0.3230 - accuracy: 0.8701 - val_loss: 0.3538 - val_accuracy: 0.8486\n",
      "Epoch 84/100\n",
      "449/449 [==============================] - 2s 5ms/step - loss: 0.3229 - accuracy: 0.8672 - val_loss: 0.3539 - val_accuracy: 0.8508\n",
      "Epoch 85/100\n",
      "449/449 [==============================] - 2s 5ms/step - loss: 0.3218 - accuracy: 0.8690 - val_loss: 0.3550 - val_accuracy: 0.8495\n",
      "Epoch 86/100\n",
      "449/449 [==============================] - 2s 5ms/step - loss: 0.3231 - accuracy: 0.8688 - val_loss: 0.3556 - val_accuracy: 0.8508\n",
      "Epoch 87/100\n",
      "449/449 [==============================] - 2s 5ms/step - loss: 0.3224 - accuracy: 0.8703 - val_loss: 0.3519 - val_accuracy: 0.8522\n",
      "Epoch 88/100\n",
      "449/449 [==============================] - 2s 5ms/step - loss: 0.3226 - accuracy: 0.8690 - val_loss: 0.3539 - val_accuracy: 0.8513\n",
      "Epoch 89/100\n",
      "449/449 [==============================] - 2s 5ms/step - loss: 0.3221 - accuracy: 0.8701 - val_loss: 0.3530 - val_accuracy: 0.8517\n",
      "Epoch 90/100\n",
      "449/449 [==============================] - 2s 5ms/step - loss: 0.3223 - accuracy: 0.8705 - val_loss: 0.3540 - val_accuracy: 0.8513\n",
      "Epoch 91/100\n",
      "449/449 [==============================] - 2s 5ms/step - loss: 0.3223 - accuracy: 0.8703 - val_loss: 0.3528 - val_accuracy: 0.8517\n",
      "Epoch 92/100\n",
      "449/449 [==============================] - 2s 5ms/step - loss: 0.3224 - accuracy: 0.8683 - val_loss: 0.3534 - val_accuracy: 0.8499\n",
      "Epoch 93/100\n",
      "449/449 [==============================] - 2s 5ms/step - loss: 0.3219 - accuracy: 0.8679 - val_loss: 0.3546 - val_accuracy: 0.8499\n",
      "Epoch 94/100\n",
      "449/449 [==============================] - 2s 5ms/step - loss: 0.3220 - accuracy: 0.8694 - val_loss: 0.3529 - val_accuracy: 0.8508\n",
      "Epoch 95/100\n",
      "449/449 [==============================] - 2s 5ms/step - loss: 0.3222 - accuracy: 0.8676 - val_loss: 0.3525 - val_accuracy: 0.8531\n",
      "Epoch 96/100\n",
      "449/449 [==============================] - 2s 5ms/step - loss: 0.3218 - accuracy: 0.8712 - val_loss: 0.3511 - val_accuracy: 0.8526\n",
      "Epoch 97/100\n",
      "449/449 [==============================] - 2s 5ms/step - loss: 0.3214 - accuracy: 0.8712 - val_loss: 0.3533 - val_accuracy: 0.8531\n",
      "Epoch 98/100\n",
      "449/449 [==============================] - 2s 5ms/step - loss: 0.3217 - accuracy: 0.8692 - val_loss: 0.3520 - val_accuracy: 0.8531\n",
      "Epoch 99/100\n",
      "449/449 [==============================] - 2s 5ms/step - loss: 0.3209 - accuracy: 0.8708 - val_loss: 0.3511 - val_accuracy: 0.8535\n",
      "Epoch 100/100\n",
      "449/449 [==============================] - 2s 5ms/step - loss: 0.3214 - accuracy: 0.8674 - val_loss: 0.3505 - val_accuracy: 0.8522\n"
     ]
    }
   ],
   "source": [
    "model_history=classifier.fit(x_train,y_train,validation_split=0.33,batch_size=10,epochs=100)"
   ]
  },
  {
   "cell_type": "code",
   "execution_count": 30,
   "id": "e4c1f854",
   "metadata": {},
   "outputs": [],
   "source": [
    "y_pred=classifier.predict(x_test)\n",
    "y_pred=y_pred>0.5\n"
   ]
  },
  {
   "cell_type": "code",
   "execution_count": 31,
   "id": "17b739b0",
   "metadata": {},
   "outputs": [],
   "source": [
    "from sklearn.metrics import confusion_matrix"
   ]
  },
  {
   "cell_type": "code",
   "execution_count": 32,
   "id": "de515369",
   "metadata": {},
   "outputs": [],
   "source": [
    "cm=confusion_matrix(y_test,y_pred)"
   ]
  },
  {
   "cell_type": "code",
   "execution_count": 33,
   "id": "3cd89c12",
   "metadata": {},
   "outputs": [],
   "source": [
    "import seaborn as sns"
   ]
  },
  {
   "cell_type": "code",
   "execution_count": 34,
   "id": "135ee5e8",
   "metadata": {},
   "outputs": [
    {
     "data": {
      "text/plain": [
       "<AxesSubplot:>"
      ]
     },
     "execution_count": 34,
     "metadata": {},
     "output_type": "execute_result"
    },
    {
     "data": {
      "image/png": "[encoded data removed]",
      "text/plain": [
       "<Figure size 432x288 with 2 Axes>"
      ]
     },
     "metadata": {
      "needs_background": "light"
     },
     "output_type": "display_data"
    }
   ],
   "source": [
    "sns.heatmap(cm,annot=True)"
   ]
  },
  {
   "cell_type": "code",
   "execution_count": 35,
   "id": "f6ef463b",
   "metadata": {},
   "outputs": [],
   "source": [
    "from sklearn.metrics import accuracy_score\n"
   ]
  },
  {
   "cell_type": "code",
   "execution_count": 36,
   "id": "4c645b07",
   "metadata": {},
   "outputs": [
    {
     "name": "stdout",
     "output_type": "stream",
     "text": [
      "0.8551515151515151\n"
     ]
    }
   ],
   "source": [
    "print(accuracy_score(y_test,y_pred))"
   ]
  },
  {
   "cell_type": "code",
   "execution_count": null,
   "id": "3652e8ff",
   "metadata": {},
   "outputs": [],
   "source": []
  }
 ],
 "metadata": {
  "kernelspec": {
   "display_name": "Python 3",
   "language": "python",
   "name": "python3"
  },
  "language_info": {
   "codemirror_mode": {
    "name": "ipython",
    "version": 3
   },
   "file_extension": ".py",
   "mimetype": "text/x-python",
   "name": "python",
   "nbconvert_exporter": "python",
   "pygments_lexer": "ipython3",
   "version": "3.8.8"
  }
 },
 "nbformat": 4,
 "nbformat_minor": 5
}
